{
 "cells": [
  {
   "cell_type": "code",
   "execution_count": 29,
   "metadata": {},
   "outputs": [],
   "source": [
    "def get_historic_price(symbol, exchange='bitfinex', after='2018-09-01'):\n",
    "    url = 'https://api.cryptowat.ch/markets/{exchange}/{symbol}usd/ohlc'.format(\n",
    "        symbol=symbol, exchange=exchange)\n",
    "    resp = requests.get(url, params={\n",
    "        'periods': '3600',\n",
    "        'after': str(int(pd.Timestamp(after).timestamp()))\n",
    "    })\n",
    "    resp.raise_for_status()\n",
    "    data = resp.json()\n",
    "    df = pd.DataFrame(data['result']['3600'], columns=[\n",
    "        'CloseTime', 'OpenPrice', 'HighPrice', 'LowPrice', 'ClosePrice', 'Volume', 'NA'\n",
    "    ])\n",
    "    df['CloseTime'] = pd.to_datetime(df['CloseTime'], unit='s')\n",
    "    df.set_index('CloseTime', inplace=True)\n",
    "    return df"
   ]
  },
  {
   "cell_type": "code",
   "execution_count": 30,
   "metadata": {},
   "outputs": [
    {
     "data": {
      "text/plain": [
       "Timestamp('2020-09-09 11:25:41.431769')"
      ]
     },
     "execution_count": 30,
     "metadata": {},
     "output_type": "execute_result"
    }
   ],
   "source": [
    "last_week = (pd.Timestamp.now() - pd.offsets.Day(7))\n",
    "last_week"
   ]
  },
  {
   "cell_type": "code",
   "execution_count": null,
   "metadata": {},
   "outputs": [],
   "source": [
    "# import numpy as np\n",
    "import matplotlib.pyplot as plt\n",
    "%matplotlib inline\n",
    "import requests\n",
    "import pandas as pd"
   ]
  },
  {
   "cell_type": "code",
   "execution_count": 31,
   "metadata": {},
   "outputs": [],
   "source": [
    "btc = get_historic_price('btc', 'bitstamp', after=last_week)\n"
   ]
  },
  {
   "cell_type": "code",
   "execution_count": 32,
   "metadata": {},
   "outputs": [],
   "source": [
    "eth = get_historic_price('eth', 'bitstamp', after=last_week)\n"
   ]
  },
  {
   "cell_type": "code",
   "execution_count": 40,
   "metadata": {},
   "outputs": [
    {
     "data": {
      "text/html": [
       "<div>\n",
       "<style scoped>\n",
       "    .dataframe tbody tr th:only-of-type {\n",
       "        vertical-align: middle;\n",
       "    }\n",
       "\n",
       "    .dataframe tbody tr th {\n",
       "        vertical-align: top;\n",
       "    }\n",
       "\n",
       "    .dataframe thead th {\n",
       "        text-align: right;\n",
       "    }\n",
       "</style>\n",
       "<table border=\"1\" class=\"dataframe\">\n",
       "  <thead>\n",
       "    <tr style=\"text-align: right;\">\n",
       "      <th></th>\n",
       "      <th>OpenPrice</th>\n",
       "      <th>HighPrice</th>\n",
       "      <th>LowPrice</th>\n",
       "      <th>ClosePrice</th>\n",
       "      <th>Volume</th>\n",
       "      <th>NA</th>\n",
       "    </tr>\n",
       "    <tr>\n",
       "      <th>CloseTime</th>\n",
       "      <th></th>\n",
       "      <th></th>\n",
       "      <th></th>\n",
       "      <th></th>\n",
       "      <th></th>\n",
       "      <th></th>\n",
       "    </tr>\n",
       "  </thead>\n",
       "  <tbody>\n",
       "    <tr>\n",
       "      <th>2020-09-09 12:00:00</th>\n",
       "      <td>10179.08</td>\n",
       "      <td>10286.67</td>\n",
       "      <td>10176.16</td>\n",
       "      <td>10226.95</td>\n",
       "      <td>313.245512</td>\n",
       "      <td>3.204397e+06</td>\n",
       "    </tr>\n",
       "    <tr>\n",
       "      <th>2020-09-09 13:00:00</th>\n",
       "      <td>10230.75</td>\n",
       "      <td>10270.80</td>\n",
       "      <td>10172.81</td>\n",
       "      <td>10190.62</td>\n",
       "      <td>453.619363</td>\n",
       "      <td>4.633602e+06</td>\n",
       "    </tr>\n",
       "    <tr>\n",
       "      <th>2020-09-09 14:00:00</th>\n",
       "      <td>10193.71</td>\n",
       "      <td>10270.50</td>\n",
       "      <td>10189.15</td>\n",
       "      <td>10215.27</td>\n",
       "      <td>427.652831</td>\n",
       "      <td>4.372893e+06</td>\n",
       "    </tr>\n",
       "    <tr>\n",
       "      <th>2020-09-09 15:00:00</th>\n",
       "      <td>10215.27</td>\n",
       "      <td>10266.69</td>\n",
       "      <td>10194.85</td>\n",
       "      <td>10240.05</td>\n",
       "      <td>432.172269</td>\n",
       "      <td>4.425122e+06</td>\n",
       "    </tr>\n",
       "    <tr>\n",
       "      <th>2020-09-09 16:00:00</th>\n",
       "      <td>10244.34</td>\n",
       "      <td>10290.96</td>\n",
       "      <td>10241.56</td>\n",
       "      <td>10252.21</td>\n",
       "      <td>307.055344</td>\n",
       "      <td>3.153251e+06</td>\n",
       "    </tr>\n",
       "  </tbody>\n",
       "</table>\n",
       "</div>"
      ],
      "text/plain": [
       "                     OpenPrice  HighPrice  LowPrice  ClosePrice      Volume  \\\n",
       "CloseTime                                                                     \n",
       "2020-09-09 12:00:00   10179.08   10286.67  10176.16    10226.95  313.245512   \n",
       "2020-09-09 13:00:00   10230.75   10270.80  10172.81    10190.62  453.619363   \n",
       "2020-09-09 14:00:00   10193.71   10270.50  10189.15    10215.27  427.652831   \n",
       "2020-09-09 15:00:00   10215.27   10266.69  10194.85    10240.05  432.172269   \n",
       "2020-09-09 16:00:00   10244.34   10290.96  10241.56    10252.21  307.055344   \n",
       "\n",
       "                               NA  \n",
       "CloseTime                          \n",
       "2020-09-09 12:00:00  3.204397e+06  \n",
       "2020-09-09 13:00:00  4.633602e+06  \n",
       "2020-09-09 14:00:00  4.372893e+06  \n",
       "2020-09-09 15:00:00  4.425122e+06  \n",
       "2020-09-09 16:00:00  3.153251e+06  "
      ]
     },
     "execution_count": 40,
     "metadata": {},
     "output_type": "execute_result"
    }
   ],
   "source": [
    "btc.head()\n",
    "# Pandas head() method is used to return top n (5 by default) rows of a data frame or series.\n"
   ]
  },
  {
   "cell_type": "code",
   "execution_count": 37,
   "metadata": {},
   "outputs": [
    {
     "data": {
      "text/plain": [
       "<AxesSubplot:xlabel='CloseTime'>"
      ]
     },
     "execution_count": 37,
     "metadata": {},
     "output_type": "execute_result"
    },
    {
     "data": {
      "image/png": "[encoded data removed]",
      "text/plain": [
       "<Figure size 720x504 with 1 Axes>"
      ]
     },
     "metadata": {
      "needs_background": "light"
     },
     "output_type": "display_data"
    }
   ],
   "source": [
    "btc['ClosePrice'].plot(figsize=(10, 7))"
   ]
  },
  {
   "cell_type": "code",
   "execution_count": 38,
   "metadata": {},
   "outputs": [
    {
     "data": {
      "text/html": [
       "<div>\n",
       "<style scoped>\n",
       "    .dataframe tbody tr th:only-of-type {\n",
       "        vertical-align: middle;\n",
       "    }\n",
       "\n",
       "    .dataframe tbody tr th {\n",
       "        vertical-align: top;\n",
       "    }\n",
       "\n",
       "    .dataframe thead th {\n",
       "        text-align: right;\n",
       "    }\n",
       "</style>\n",
       "<table border=\"1\" class=\"dataframe\">\n",
       "  <thead>\n",
       "    <tr style=\"text-align: right;\">\n",
       "      <th></th>\n",
       "      <th>OpenPrice</th>\n",
       "      <th>HighPrice</th>\n",
       "      <th>LowPrice</th>\n",
       "      <th>ClosePrice</th>\n",
       "      <th>Volume</th>\n",
       "      <th>NA</th>\n",
       "    </tr>\n",
       "    <tr>\n",
       "      <th>CloseTime</th>\n",
       "      <th></th>\n",
       "      <th></th>\n",
       "      <th></th>\n",
       "      <th></th>\n",
       "      <th></th>\n",
       "      <th></th>\n",
       "    </tr>\n",
       "  </thead>\n",
       "  <tbody>\n",
       "    <tr>\n",
       "      <th>2020-09-09 12:00:00</th>\n",
       "      <td>346.49</td>\n",
       "      <td>350.35</td>\n",
       "      <td>346.35</td>\n",
       "      <td>347.54</td>\n",
       "      <td>1827.816988</td>\n",
       "      <td>6.369486e+05</td>\n",
       "    </tr>\n",
       "    <tr>\n",
       "      <th>2020-09-09 13:00:00</th>\n",
       "      <td>347.97</td>\n",
       "      <td>349.51</td>\n",
       "      <td>345.03</td>\n",
       "      <td>346.91</td>\n",
       "      <td>1775.303143</td>\n",
       "      <td>6.159192e+05</td>\n",
       "    </tr>\n",
       "    <tr>\n",
       "      <th>2020-09-09 14:00:00</th>\n",
       "      <td>346.75</td>\n",
       "      <td>352.00</td>\n",
       "      <td>346.75</td>\n",
       "      <td>347.54</td>\n",
       "      <td>3094.439775</td>\n",
       "      <td>1.082628e+06</td>\n",
       "    </tr>\n",
       "    <tr>\n",
       "      <th>2020-09-09 15:00:00</th>\n",
       "      <td>347.80</td>\n",
       "      <td>351.53</td>\n",
       "      <td>345.81</td>\n",
       "      <td>351.05</td>\n",
       "      <td>2339.967197</td>\n",
       "      <td>8.174279e+05</td>\n",
       "    </tr>\n",
       "    <tr>\n",
       "      <th>2020-09-09 16:00:00</th>\n",
       "      <td>351.48</td>\n",
       "      <td>355.04</td>\n",
       "      <td>351.48</td>\n",
       "      <td>353.25</td>\n",
       "      <td>5851.829554</td>\n",
       "      <td>2.068555e+06</td>\n",
       "    </tr>\n",
       "  </tbody>\n",
       "</table>\n",
       "</div>"
      ],
      "text/plain": [
       "                     OpenPrice  HighPrice  LowPrice  ClosePrice       Volume  \\\n",
       "CloseTime                                                                      \n",
       "2020-09-09 12:00:00     346.49     350.35    346.35      347.54  1827.816988   \n",
       "2020-09-09 13:00:00     347.97     349.51    345.03      346.91  1775.303143   \n",
       "2020-09-09 14:00:00     346.75     352.00    346.75      347.54  3094.439775   \n",
       "2020-09-09 15:00:00     347.80     351.53    345.81      351.05  2339.967197   \n",
       "2020-09-09 16:00:00     351.48     355.04    351.48      353.25  5851.829554   \n",
       "\n",
       "                               NA  \n",
       "CloseTime                          \n",
       "2020-09-09 12:00:00  6.369486e+05  \n",
       "2020-09-09 13:00:00  6.159192e+05  \n",
       "2020-09-09 14:00:00  1.082628e+06  \n",
       "2020-09-09 15:00:00  8.174279e+05  \n",
       "2020-09-09 16:00:00  2.068555e+06  "
      ]
     },
     "execution_count": 38,
     "metadata": {},
     "output_type": "execute_result"
    }
   ],
   "source": [
    "eth.head()\n",
    "# Pandas head() method is used to return top n (5 by default) rows of a data frame or series.\n"
   ]
  },
  {
   "cell_type": "code",
   "execution_count": 41,
   "metadata": {},
   "outputs": [
    {
     "data": {
      "text/plain": [
       "<AxesSubplot:xlabel='CloseTime'>"
      ]
     },
     "execution_count": 41,
     "metadata": {},
     "output_type": "execute_result"
    },
    {
     "data": {
      "image/png": "[encoded data removed]",
      "text/plain": [
       "<Figure size 1080x504 with 1 Axes>"
      ]
     },
     "metadata": {
      "needs_background": "light"
     },
     "output_type": "display_data"
    }
   ],
   "source": [
    "eth['ClosePrice'].plot(figsize=(15, 7))"
   ]
  },
  {
   "cell_type": "code",
   "execution_count": 44,
   "metadata": {},
   "outputs": [],
   "source": [
    "from bokeh.plotting import figure, output_file, show\n",
    "from bokeh.io import output_notebook"
   ]
  },
  {
   "cell_type": "code",
   "execution_count": 59,
   "metadata": {},
   "outputs": [
    {
     "data": {
      "text/html": [
       "\n",
       "    <div class=\"bk-root\">\n",
       "        <a href=\"https://bokeh.org\" target=\"_blank\" class=\"bk-logo bk-logo-small bk-logo-notebook\"></a>\n",
       "        <span id=\"1442\">Loading BokehJS ...</span>\n",
       "    </div>"
      ]
     },
     "metadata": {},
     "output_type": "display_data"
    },
    {
     "data": {
      "application/javascript": [
       "\n",
       "(function(root) {\n",
       "  function now() {\n",
       "    return new Date();\n",
       "  }\n",
       "\n",
       "  var force = true;\n",
       "\n",
       "  if (typeof root._bokeh_onload_callbacks === \"undefined\" || force === true) {\n",
       "    root._bokeh_onload_callbacks = [];\n",
       "    root._bokeh_is_loading = undefined;\n",
       "  }\n",
       "\n",
       "  var JS_MIME_TYPE = 'application/javascript';\n",
       "  var HTML_MIME_TYPE = 'text/html';\n",
       "  var EXEC_MIME_TYPE = 'application/vnd.bokehjs_exec.v0+json';\n",
       "  var CLASS_NAME = 'output_bokeh rendered_html';\n",
       "\n",
       "  /**\n",
       "   * Render data to the DOM node\n",
       "   */\n",
       "  function render(props, node) {\n",
       "    var script = document.createElement(\"script\");\n",
       "    node.appendChild(script);\n",
       "  }\n",
       "\n",
       "  /**\n",
       "   * Handle when an output is cleared or removed\n",
       "   */\n",
       "  function handleClearOutput(event, handle) {\n",
       "    var cell = handle.cell;\n",
       "\n",
       "    var id = cell.output_area._bokeh_element_id;\n",
       "    var server_id = cell.output_area._bokeh_server_id;\n",
       "    // Clean up Bokeh references\n",
       "    if (id != null && id in Bokeh.index) {\n",
       "      Bokeh.index[id].model.document.clear();\n",
       "      delete Bokeh.index[id];\n",
       "    }\n",
       "\n",
       "    if (server_id !== undefined) {\n",
       "      // Clean up Bokeh references\n",
       "      var cmd = \"from bokeh.io.state import curstate; print(curstate().uuid_to_server['\" + server_id + \"'].get_sessions()[0].document.roots[0]._id)\";\n",
       "      cell.notebook.kernel.execute(cmd, {\n",
       "        iopub: {\n",
       "          output: function(msg) {\n",
       "            var id = msg.content.text.trim();\n",
       "            if (id in Bokeh.index) {\n",
       "              Bokeh.index[id].model.document.clear();\n",
       "              delete Bokeh.index[id];\n",
       "            }\n",
       "          }\n",
       "        }\n",
       "      });\n",
       "      // Destroy server and session\n",
       "      var cmd = \"import bokeh.io.notebook as ion; ion.destroy_server('\" + server_id + \"')\";\n",
       "      cell.notebook.kernel.execute(cmd);\n",
       "    }\n",
       "  }\n",
       "\n",
       "  /**\n",
       "   * Handle when a new output is added\n",
       "   */\n",
       "  function handleAddOutput(event, handle) {\n",
       "    var output_area = handle.output_area;\n",
       "    var output = handle.output;\n",
       "\n",
       "    // limit handleAddOutput to display_data with EXEC_MIME_TYPE content only\n",
       "    if ((output.output_type != \"display_data\") || (!output.data.hasOwnProperty(EXEC_MIME_TYPE))) {\n",
       "      return\n",
       "    }\n",
       "\n",
       "    var toinsert = output_area.element.find(\".\" + CLASS_NAME.split(' ')[0]);\n",
       "\n",
       "    if (output.metadata[EXEC_MIME_TYPE][\"id\"] !== undefined) {\n",
       "      toinsert[toinsert.length - 1].firstChild.textContent = output.data[JS_MIME_TYPE];\n",
       "      // store reference to embed id on output_area\n",
       "      output_area._bokeh_element_id = output.metadata[EXEC_MIME_TYPE][\"id\"];\n",
       "    }\n",
       "    if (output.metadata[EXEC_MIME_TYPE][\"server_id\"] !== undefined) {\n",
       "      var bk_div = document.createElement(\"div\");\n",
       "      bk_div.innerHTML = output.data[HTML_MIME_TYPE];\n",
       "      var script_attrs = bk_div.children[0].attributes;\n",
       "      for (var i = 0; i < script_attrs.length; i++) {\n",
       "        toinsert[toinsert.length - 1].firstChild.setAttribute(script_attrs[i].name, script_attrs[i].value);\n",
       "        toinsert[toinsert.length - 1].firstChild.textContent = bk_div.children[0].textContent\n",
       "      }\n",
       "      // store reference to server id on output_area\n",
       "      output_area._bokeh_server_id = output.metadata[EXEC_MIME_TYPE][\"server_id\"];\n",
       "    }\n",
       "  }\n",
       "\n",
       "  function register_renderer(events, OutputArea) {\n",
       "\n",
       "    function append_mime(data, metadata, element) {\n",
       "      // create a DOM node to render to\n",
       "      var toinsert = this.create_output_subarea(\n",
       "        metadata,\n",
       "        CLASS_NAME,\n",
       "        EXEC_MIME_TYPE\n",
       "      );\n",
       "      this.keyboard_manager.register_events(toinsert);\n",
       "      // Render to node\n",
       "      var props = {data: data, metadata: metadata[EXEC_MIME_TYPE]};\n",
       "      render(props, toinsert[toinsert.length - 1]);\n",
       "      element.append(toinsert);\n",
       "      return toinsert\n",
       "    }\n",
       "\n",
       "    /* Handle when an output is cleared or removed */\n",
       "    events.on('clear_output.CodeCell', handleClearOutput);\n",
       "    events.on('delete.Cell', handleClearOutput);\n",
       "\n",
       "    /* Handle when a new output is added */\n",
       "    events.on('output_added.OutputArea', handleAddOutput);\n",
       "\n",
       "    /**\n",
       "     * Register the mime type and append_mime function with output_area\n",
       "     */\n",
       "    OutputArea.prototype.register_mime_type(EXEC_MIME_TYPE, append_mime, {\n",
       "      /* Is output safe? */\n",
       "      safe: true,\n",
       "      /* Index of renderer in `output_area.display_order` */\n",
       "      index: 0\n",
       "    });\n",
       "  }\n",
       "\n",
       "  // register the mime type if in Jupyter Notebook environment and previously unregistered\n",
       "  if (root.Jupyter !== undefined) {\n",
       "    var events = require('base/js/events');\n",
       "    var OutputArea = require('notebook/js/outputarea').OutputArea;\n",
       "\n",
       "    if (OutputArea.prototype.mime_types().indexOf(EXEC_MIME_TYPE) == -1) {\n",
       "      register_renderer(events, OutputArea);\n",
       "    }\n",
       "  }\n",
       "\n",
       "  \n",
       "  if (typeof (root._bokeh_timeout) === \"undefined\" || force === true) {\n",
       "    root._bokeh_timeout = Date.now() + 5000;\n",
       "    root._bokeh_failed_load = false;\n",
       "  }\n",
       "\n",
       "  var NB_LOAD_WARNING = {'data': {'text/html':\n",
       "     \"<div style='background-color: #fdd'>\\n\"+\n",
       "     \"<p>\\n\"+\n",
       "     \"BokehJS does not appear to have successfully loaded. If loading BokehJS from CDN, this \\n\"+\n",
       "     \"may be due to a slow or bad network connection. Possible fixes:\\n\"+\n",
       "     \"</p>\\n\"+\n",
       "     \"<ul>\\n\"+\n",
       "     \"<li>re-rerun `output_notebook()` to attempt to load from CDN again, or</li>\\n\"+\n",
       "     \"<li>use INLINE resources instead, as so:</li>\\n\"+\n",
       "     \"</ul>\\n\"+\n",
       "     \"<code>\\n\"+\n",
       "     \"from bokeh.resources import INLINE\\n\"+\n",
       "     \"output_notebook(resources=INLINE)\\n\"+\n",
       "     \"</code>\\n\"+\n",
       "     \"</div>\"}};\n",
       "\n",
       "  function display_loaded() {\n",
       "    var el = document.getElementById(\"1442\");\n",
       "    if (el != null) {\n",
       "      el.textContent = \"BokehJS is loading...\";\n",
       "    }\n",
       "    if (root.Bokeh !== undefined) {\n",
       "      if (el != null) {\n",
       "        el.textContent = \"BokehJS \" + root.Bokeh.version + \" successfully loaded.\";\n",
       "      }\n",
       "    } else if (Date.now() < root._bokeh_timeout) {\n",
       "      setTimeout(display_loaded, 100)\n",
       "    }\n",
       "  }\n",
       "\n",
       "\n",
       "  function run_callbacks() {\n",
       "    try {\n",
       "      root._bokeh_onload_callbacks.forEach(function(callback) {\n",
       "        if (callback != null)\n",
       "          callback();\n",
       "      });\n",
       "    } finally {\n",
       "      delete root._bokeh_onload_callbacks\n",
       "    }\n",
       "    console.debug(\"Bokeh: all callbacks have finished\");\n",
       "  }\n",
       "\n",
       "  function load_libs(css_urls, js_urls, callback) {\n",
       "    if (css_urls == null) css_urls = [];\n",
       "    if (js_urls == null) js_urls = [];\n",
       "\n",
       "    root._bokeh_onload_callbacks.push(callback);\n",
       "    if (root._bokeh_is_loading > 0) {\n",
       "      console.debug(\"Bokeh: BokehJS is being loaded, scheduling callback at\", now());\n",
       "      return null;\n",
       "    }\n",
       "    if (js_urls == null || js_urls.length === 0) {\n",
       "      run_callbacks();\n",
       "      return null;\n",
       "    }\n",
       "    console.debug(\"Bokeh: BokehJS not loaded, scheduling load and callback at\", now());\n",
       "    root._bokeh_is_loading = css_urls.length + js_urls.length;\n",
       "\n",
       "    function on_load() {\n",
       "      root._bokeh_is_loading--;\n",
       "      if (root._bokeh_is_loading === 0) {\n",
       "        console.debug(\"Bokeh: all BokehJS libraries/stylesheets loaded\");\n",
       "        run_callbacks()\n",
       "      }\n",
       "    }\n",
       "\n",
       "    function on_error() {\n",
       "      console.error(\"failed to load \" + url);\n",
       "    }\n",
       "\n",
       "    for (var i = 0; i < css_urls.length; i++) {\n",
       "      var url = css_urls[i];\n",
       "      const element = document.createElement(\"link\");\n",
       "      element.onload = on_load;\n",
       "      element.onerror = on_error;\n",
       "      element.rel = \"stylesheet\";\n",
       "      element.type = \"text/css\";\n",
       "      element.href = url;\n",
       "      console.debug(\"Bokeh: injecting link tag for BokehJS stylesheet: \", url);\n",
       "      document.body.appendChild(element);\n",
       "    }\n",
       "\n",
       "    const hashes = {\"https://cdn.bokeh.org/bokeh/release/bokeh-2.2.1.min.js\": \"qkRvDQVAIfzsJo40iRBbxt6sttt0hv4lh74DG7OK4MCHv4C5oohXYoHUM5W11uqS\", \"https://cdn.bokeh.org/bokeh/release/bokeh-widgets-2.2.1.min.js\": \"Sb7Mr06a9TNlet/GEBeKaf5xH3eb6AlCzwjtU82wNPyDrnfoiVl26qnvlKjmcAd+\", \"https://cdn.bokeh.org/bokeh/release/bokeh-tables-2.2.1.min.js\": \"HaJ15vgfmcfRtB4c4YBOI4f1MUujukqInOWVqZJZZGK7Q+ivud0OKGSTn/Vm2iso\"};\n",
       "\n",
       "    for (var i = 0; i < js_urls.length; i++) {\n",
       "      var url = js_urls[i];\n",
       "      var element = document.createElement('script');\n",
       "      element.onload = on_load;\n",
       "      element.onerror = on_error;\n",
       "      element.async = false;\n",
       "      element.src = url;\n",
       "      if (url in hashes) {\n",
       "        element.crossOrigin = \"anonymous\";\n",
       "        element.integrity = \"sha384-\" + hashes[url];\n",
       "      }\n",
       "      console.debug(\"Bokeh: injecting script tag for BokehJS library: \", url);\n",
       "      document.head.appendChild(element);\n",
       "    }\n",
       "  };\n",
       "\n",
       "  function inject_raw_css(css) {\n",
       "    const element = document.createElement(\"style\");\n",
       "    element.appendChild(document.createTextNode(css));\n",
       "    document.body.appendChild(element);\n",
       "  }\n",
       "\n",
       "  \n",
       "  var js_urls = [\"https://cdn.bokeh.org/bokeh/release/bokeh-2.2.1.min.js\", \"https://cdn.bokeh.org/bokeh/release/bokeh-widgets-2.2.1.min.js\", \"https://cdn.bokeh.org/bokeh/release/bokeh-tables-2.2.1.min.js\"];\n",
       "  var css_urls = [];\n",
       "  \n",
       "\n",
       "  var inline_js = [\n",
       "    function(Bokeh) {\n",
       "      Bokeh.set_log_level(\"info\");\n",
       "    },\n",
       "    function(Bokeh) {\n",
       "    \n",
       "    \n",
       "    }\n",
       "  ];\n",
       "\n",
       "  function run_inline_js() {\n",
       "    \n",
       "    if (root.Bokeh !== undefined || force === true) {\n",
       "      \n",
       "    for (var i = 0; i < inline_js.length; i++) {\n",
       "      inline_js[i].call(root, root.Bokeh);\n",
       "    }\n",
       "    if (force === true) {\n",
       "        display_loaded();\n",
       "      }} else if (Date.now() < root._bokeh_timeout) {\n",
       "      setTimeout(run_inline_js, 100);\n",
       "    } else if (!root._bokeh_failed_load) {\n",
       "      console.log(\"Bokeh: BokehJS failed to load within specified timeout.\");\n",
       "      root._bokeh_failed_load = true;\n",
       "    } else if (force !== true) {\n",
       "      var cell = $(document.getElementById(\"1442\")).parents('.cell').data().cell;\n",
       "      cell.output_area.append_execute_result(NB_LOAD_WARNING)\n",
       "    }\n",
       "\n",
       "  }\n",
       "\n",
       "  if (root._bokeh_is_loading === 0) {\n",
       "    console.debug(\"Bokeh: BokehJS loaded, going straight to plotting\");\n",
       "    run_inline_js();\n",
       "  } else {\n",
       "    load_libs(css_urls, js_urls, function() {\n",
       "      console.debug(\"Bokeh: BokehJS plotting callback run at\", now());\n",
       "      run_inline_js();\n",
       "    });\n",
       "  }\n",
       "}(window));"
      ],
      "application/vnd.bokehjs_load.v0+json": "\n(function(root) {\n  function now() {\n    return new Date();\n  }\n\n  var force = true;\n\n  if (typeof root._bokeh_onload_callbacks === \"undefined\" || force === true) {\n    root._bokeh_onload_callbacks = [];\n    root._bokeh_is_loading = undefined;\n  }\n\n  \n\n  \n  if (typeof (root._bokeh_timeout) === \"undefined\" || force === true) {\n    root._bokeh_timeout = Date.now() + 5000;\n    root._bokeh_failed_load = false;\n  }\n\n  var NB_LOAD_WARNING = {'data': {'text/html':\n     \"<div style='background-color: #fdd'>\\n\"+\n     \"<p>\\n\"+\n     \"BokehJS does not appear to have successfully loaded. If loading BokehJS from CDN, this \\n\"+\n     \"may be due to a slow or bad network connection. Possible fixes:\\n\"+\n     \"</p>\\n\"+\n     \"<ul>\\n\"+\n     \"<li>re-rerun `output_notebook()` to attempt to load from CDN again, or</li>\\n\"+\n     \"<li>use INLINE resources instead, as so:</li>\\n\"+\n     \"</ul>\\n\"+\n     \"<code>\\n\"+\n     \"from bokeh.resources import INLINE\\n\"+\n     \"output_notebook(resources=INLINE)\\n\"+\n     \"</code>\\n\"+\n     \"</div>\"}};\n\n  function display_loaded() {\n    var el = document.getElementById(\"1442\");\n    if (el != null) {\n      el.textContent = \"BokehJS is loading...\";\n    }\n    if (root.Bokeh !== undefined) {\n      if (el != null) {\n        el.textContent = \"BokehJS \" + root.Bokeh.version + \" successfully loaded.\";\n      }\n    } else if (Date.now() < root._bokeh_timeout) {\n      setTimeout(display_loaded, 100)\n    }\n  }\n\n\n  function run_callbacks() {\n    try {\n      root._bokeh_onload_callbacks.forEach(function(callback) {\n        if (callback != null)\n          callback();\n      });\n    } finally {\n      delete root._bokeh_onload_callbacks\n    }\n    console.debug(\"Bokeh: all callbacks have finished\");\n  }\n\n  function load_libs(css_urls, js_urls, callback) {\n    if (css_urls == null) css_urls = [];\n    if (js_urls == null) js_urls = [];\n\n    root._bokeh_onload_callbacks.push(callback);\n    if (root._bokeh_is_loading > 0) {\n      console.debug(\"Bokeh: BokehJS is being loaded, scheduling callback at\", now());\n      return null;\n    }\n    if (js_urls == null || js_urls.length === 0) {\n      run_callbacks();\n      return null;\n    }\n    console.debug(\"Bokeh: BokehJS not loaded, scheduling load and callback at\", now());\n    root._bokeh_is_loading = css_urls.length + js_urls.length;\n\n    function on_load() {\n      root._bokeh_is_loading--;\n      if (root._bokeh_is_loading === 0) {\n        console.debug(\"Bokeh: all BokehJS libraries/stylesheets loaded\");\n        run_callbacks()\n      }\n    }\n\n    function on_error() {\n      console.error(\"failed to load \" + url);\n    }\n\n    for (var i = 0; i < css_urls.length; i++) {\n      var url = css_urls[i];\n      const element = document.createElement(\"link\");\n      element.onload = on_load;\n      element.onerror = on_error;\n      element.rel = \"stylesheet\";\n      element.type = \"text/css\";\n      element.href = url;\n      console.debug(\"Bokeh: injecting link tag for BokehJS stylesheet: \", url);\n      document.body.appendChild(element);\n    }\n\n    const hashes = {\"https://cdn.bokeh.org/bokeh/release/bokeh-2.2.1.min.js\": \"qkRvDQVAIfzsJo40iRBbxt6sttt0hv4lh74DG7OK4MCHv4C5oohXYoHUM5W11uqS\", \"https://cdn.bokeh.org/bokeh/release/bokeh-widgets-2.2.1.min.js\": \"Sb7Mr06a9TNlet/GEBeKaf5xH3eb6AlCzwjtU82wNPyDrnfoiVl26qnvlKjmcAd+\", \"https://cdn.bokeh.org/bokeh/release/bokeh-tables-2.2.1.min.js\": \"HaJ15vgfmcfRtB4c4YBOI4f1MUujukqInOWVqZJZZGK7Q+ivud0OKGSTn/Vm2iso\"};\n\n    for (var i = 0; i < js_urls.length; i++) {\n      var url = js_urls[i];\n      var element = document.createElement('script');\n      element.onload = on_load;\n      element.onerror = on_error;\n      element.async = false;\n      element.src = url;\n      if (url in hashes) {\n        element.crossOrigin = \"anonymous\";\n        element.integrity = \"sha384-\" + hashes[url];\n      }\n      console.debug(\"Bokeh: injecting script tag for BokehJS library: \", url);\n      document.head.appendChild(element);\n    }\n  };\n\n  function inject_raw_css(css) {\n    const element = document.createElement(\"style\");\n    element.appendChild(document.createTextNode(css));\n    document.body.appendChild(element);\n  }\n\n  \n  var js_urls = [\"https://cdn.bokeh.org/bokeh/release/bokeh-2.2.1.min.js\", \"https://cdn.bokeh.org/bokeh/release/bokeh-widgets-2.2.1.min.js\", \"https://cdn.bokeh.org/bokeh/release/bokeh-tables-2.2.1.min.js\"];\n  var css_urls = [];\n  \n\n  var inline_js = [\n    function(Bokeh) {\n      Bokeh.set_log_level(\"info\");\n    },\n    function(Bokeh) {\n    \n    \n    }\n  ];\n\n  function run_inline_js() {\n    \n    if (root.Bokeh !== undefined || force === true) {\n      \n    for (var i = 0; i < inline_js.length; i++) {\n      inline_js[i].call(root, root.Bokeh);\n    }\n    if (force === true) {\n        display_loaded();\n      }} else if (Date.now() < root._bokeh_timeout) {\n      setTimeout(run_inline_js, 100);\n    } else if (!root._bokeh_failed_load) {\n      console.log(\"Bokeh: BokehJS failed to load within specified timeout.\");\n      root._bokeh_failed_load = true;\n    } else if (force !== true) {\n      var cell = $(document.getElementById(\"1442\")).parents('.cell').data().cell;\n      cell.output_area.append_execute_result(NB_LOAD_WARNING)\n    }\n\n  }\n\n  if (root._bokeh_is_loading === 0) {\n    console.debug(\"Bokeh: BokehJS loaded, going straight to plotting\");\n    run_inline_js();\n  } else {\n    load_libs(css_urls, js_urls, function() {\n      console.debug(\"Bokeh: BokehJS plotting callback run at\", now());\n      run_inline_js();\n    });\n  }\n}(window));"
     },
     "metadata": {},
     "output_type": "display_data"
    }
   ],
   "source": [
    "output_notebook()\n"
   ]
  },
  {
   "cell_type": "code",
   "execution_count": 60,
   "metadata": {},
   "outputs": [
    {
     "name": "stderr",
     "output_type": "stream",
     "text": [
      "BokehDeprecationWarning: 'legend' keyword is deprecated, use explicit 'legend_label', 'legend_field', or 'legend_group' keywords instead\n"
     ]
    },
    {
     "data": {
      "text/html": [
       "\n",
       "\n",
       "\n",
       "\n",
       "\n",
       "\n",
       "  <div class=\"bk-root\" id=\"e00bdc3d-4238-4f3e-9973-41eb584cdc18\" data-root-id=\"1443\"></div>\n"
      ]
     },
     "metadata": {},
     "output_type": "display_data"
    },
    {
     "data": {
      "application/javascript": [
       "(function(root) {\n",
       "  function embed_document(root) {\n",
       "    \n",
       "  var docs_json = {\"2347f82f-d7ea-4ce2-998a-0082ac9ae579\":{\"roots\":{\"references\":[{\"attributes\":{\"below\":[{\"id\":\"1454\"}],\"center\":[{\"id\":\"1457\"},{\"id\":\"1461\"},{\"id\":\"1501\"}],\"left\":[{\"id\":\"1458\"}],\"plot_width\":800,\"renderers\":[{\"id\":\"1479\"}],\"title\":{\"id\":\"1444\"},\"toolbar\":{\"id\":\"1469\"},\"x_range\":{\"id\":\"1446\"},\"x_scale\":{\"id\":\"1450\"},\"y_range\":{\"id\":\"1448\"},\"y_scale\":{\"id\":\"1452\"}},\"id\":\"1443\",\"subtype\":\"Figure\",\"type\":\"Plot\"},{\"attributes\":{\"days\":[1,15]},\"id\":\"1492\",\"type\":\"DaysTicker\"},{\"attributes\":{},\"id\":\"1452\",\"type\":\"LinearScale\"},{\"attributes\":{\"label\":{\"value\":\"Bitcoin\"},\"renderers\":[{\"id\":\"1479\"}]},\"id\":\"1502\",\"type\":\"LegendItem\"},{\"attributes\":{},\"id\":\"1466\",\"type\":\"ResetTool\"},{\"attributes\":{},\"id\":\"1499\",\"type\":\"UnionRenderers\"},{\"attributes\":{},\"id\":\"1462\",\"type\":\"PanTool\"},{\"attributes\":{\"days\":[1,8,15,22]},\"id\":\"1491\",\"type\":\"DaysTicker\"},{\"attributes\":{\"months\":[0,4,8]},\"id\":\"1495\",\"type\":\"MonthsTicker\"},{\"attributes\":{},\"id\":\"1498\",\"type\":\"Selection\"},{\"attributes\":{\"line_color\":\"#f2a900\",\"x\":{\"field\":\"x\"},\"y\":{\"field\":\"y\"}},\"id\":\"1477\",\"type\":\"Line\"},{\"attributes\":{},\"id\":\"1482\",\"type\":\"DatetimeTickFormatter\"},{\"attributes\":{\"months\":[0,6]},\"id\":\"1496\",\"type\":\"MonthsTicker\"},{\"attributes\":{},\"id\":\"1446\",\"type\":\"DataRange1d\"},{\"attributes\":{},\"id\":\"1484\",\"type\":\"BasicTickFormatter\"},{\"attributes\":{},\"id\":\"1450\",\"type\":\"LinearScale\"},{\"attributes\":{},\"id\":\"1465\",\"type\":\"SaveTool\"},{\"attributes\":{\"months\":[0,2,4,6,8,10]},\"id\":\"1494\",\"type\":\"MonthsTicker\"},{\"attributes\":{\"data\":{\"x\":{\"__ndarray__\":\"AABgyitHd0IAAEg5L0d3QgAAMKgyR3dCAAAYFzZHd0IAAACGOUd3QgAA6PQ8R3dCAADQY0BHd0IAALjSQ0d3QgAAoEFHR3dCAACIsEpHd0IAAHAfTkd3QgAAWI5RR3dCAABA/VRHd0IAAChsWEd3QgAAENtbR3dCAAD4SV9Hd0IAAOC4Ykd3QgAAyCdmR3dCAACwlmlHd0IAAJgFbUd3QgAAgHRwR3dCAABo43NHd0IAAFBSd0d3QgAAOMF6R3dCAAAgMH5Hd0IAAAifgUd3QgAA8A2FR3dCAADYfIhHd0IAAMDri0d3QgAAqFqPR3dCAACQyZJHd0IAAHg4lkd3QgAAYKeZR3dCAABIFp1Hd0IAADCFoEd3QgAAGPSjR3dCAAAAY6dHd0IAAOjRqkd3QgAA0ECuR3dCAAC4r7FHd0IAAKAetUd3QgAAiI24R3dCAABw/LtHd0IAAFhrv0d3QgAAQNrCR3dCAAAoScZHd0IAABC4yUd3QgAA+CbNR3dCAADgldBHd0IAAMgE1Ed3QgAAsHPXR3dCAACY4tpHd0IAAIBR3kd3QgAAaMDhR3dCAABQL+VHd0IAADie6Ed3QgAAIA3sR3dCAAAIfO9Hd0IAAPDq8kd3QgAA2Fn2R3dCAADAyPlHd0IAAKg3/Ud3QgAAkKYASHdCAAB4FQRId0IAAGCEB0h3QgAASPMKSHdCAAAwYg5Id0IAABjREUh3QgAAAEAVSHdCAADorhhId0IAANAdHEh3QgAAuIwfSHdCAACg+yJId0IAAIhqJkh3QgAAcNkpSHdCAABYSC1Id0IAAEC3MEh3QgAAKCY0SHdCAAAQlTdId0IAAPgDO0h3QgAA4HI+SHdCAADI4UFId0IAALBQRUh3QgAAmL9ISHdCAACALkxId0IAAGidT0h3QgAAUAxTSHdCAAA4e1ZId0IAACDqWUh3QgAACFldSHdCAADwx2BId0IAANg2ZEh3QgAAwKVnSHdCAACoFGtId0IAAJCDbkh3QgAAePJxSHdCAABgYXVId0IAAEjQeEh3QgAAMD98SHdCAAAYrn9Id0IAAAAdg0h3QgAA6IuGSHdCAADQ+olId0IAALhpjUh3QgAAoNiQSHdCAACIR5RId0IAAHC2l0h3QgAAWCWbSHdCAABAlJ5Id0IAACgDokh3QgAAEHKlSHdCAAD44KhId0IAAOBPrEh3QgAAyL6vSHdCAACwLbNId0IAAJictkh3QgAAgAu6SHdCAABoer1Id0IAAFDpwEh3QgAAOFjESHdCAAAgx8dId0IAAAg2y0h3QgAA8KTOSHdCAADYE9JId0IAAMCC1Uh3QgAAqPHYSHdCAACQYNxId0IAAHjP30h3QgAAYD7jSHdCAABIreZId0IAADAc6kh3QgAAGIvtSHdCAAAA+vBId0IAAOho9Eh3QgAA0Nf3SHdCAAC4RvtId0IAAKC1/kh3QgAAiCQCSXdCAABwkwVJd0IAAFgCCUl3QgAAQHEMSXdCAAAo4A9Jd0IAABBPE0l3QgAA+L0WSXdCAADgLBpJd0IAAMibHUl3QgAAsAohSXdCAACYeSRJd0IAAIDoJ0l3QgAAaFcrSXdCAABQxi5Jd0IAADg1Mkl3QgAAIKQ1SXdCAAAIEzlJd0IAAPCBPEl3QgAA2PA/SXdCAADAX0NJd0IAAKjORkl3QgAAkD1KSXdCAAB4rE1Jd0IAAGAbUUl3QgAASIpUSXdCAAAw+VdJd0IAABhoW0l3QgAAANdeSXdCAADoRWJJd0IAANC0ZUl3QgAAuCNpSXdCAACgkmxJd0IAAIgBcEl3QgAAcHBzSXdCAABY33ZJd0IAAEBOekl3QgAAKL19SXdCAAAQLIFJd0IAAPiahEl3Qg==\",\"dtype\":\"float64\",\"order\":\"little\",\"shape\":[176]},\"y\":{\"__ndarray__\":\"mpmZmXn5w0DD9ShcT+fDQPYoXI+i88NAZmZmZgYAxEAUrkfhGgbEQD0K16OQA8RAw/UoXO8SxECF61G4HjDEQEjhehTOF8RAKVyPwjUKxECkcD0KtwDEQGZmZmYGE8RAZmZmZmb8w0BI4XoUbhHEQKRwPQo3SsRAexSuRwFAxEA9CtejUETEQEjhehROSMRAj8L1KFxHxEA9CtejcDPEQAAAAAAAFMRAXI/C9UgPxEAAAAAAgBbEQPYoXI9iEMRAexSuRwEdxEAK16NwXUHEQFK4HoXLasRAZmZmZmZCxEDD9Shcr1zEQArXo3BdMsRAKVyPwtU3xEAAAAAAQBjEQClcj8K1FcRASOF6FO4gxEAfhetRWDTEQAAAAADANcRAUrgehUszxEAAAAAAYDTEQFK4HoVrI8RAAAAAAMAIxEBmZmZm5vXDQPYoXI8i+MNArkfhehQXxEA9CtejMAvEQAAAAAAACsRAhetRuP4bxEAzMzMzMynEQK5H4XqUGcRAH4XrUfgKxEB7FK5HgRvEQAAAAACgCsRAzczMzGwbxEAfhetRmCrEQI/C9Si8IMRAH4XrUVgcxEDXo3A96ijEQD0K16NQLcRAKVyPwhUrxEBI4XoUrjnEQGZmZmYGQcRA7FG4HoVMxEApXI/ClTbEQArXo3D9Q8RAUrgehcszxEAAAAAAADfEQHsUrkcBPsRAPQrXo1A+xECkcD0K9y/EQI/C9Sj8NMRA9ihcjyIyxEDsUbgeJTjEQGZmZmbGMsRAw/UoXC8zxECkcD0KtyjEQI/C9SgcIMRAPQrXo7A2xEAfhetRGDzEQD0K16PwQ8RAPQrXo7BFxEAAAAAAoGrEQK5H4Xq0b8RAZmZmZkZhxECPwvUofG3EQDMzMzPzY8RA16NwPaplxEAzMzMzM2HEQHsUrkdhX8RAMzMzMzNexEBcj8L16KDEQMP1KFxvl8RAXI/C9SiSxEB7FK5HgY7EQKRwPQqXl8RApHA9CjeZxEDNzMzMjITEQGZmZmYGbcRAAAAAAIAqxECamZmZeRjEQMP1KFzPKsRAexSuR+EtxECF61G43hbEQM3MzMxMD8RAexSuR2EWxEB7FK5HQQvEQFyPwvWII8RA7FG4HiUmxEC4HoXrMR7EQArXo3B9I8RAcT0K12MvxEAAAAAAgBHEQD0K16OwLMRA16NwPao7xECuR+F6tDjEQKRwPQoXNsRAhetRuH4yxEApXI/ClTzEQBSuR+GaUcRA9ihcj+I+xEBI4XoUzkHEQMP1KFxvWMRAFK5H4fp0xEBI4XoUboXEQEjhehSOysRAUrgehWvHxEDsUbgeBenEQOxRuB5l9sRAAAAAAIDhxEC4HoXrsdvEQGZmZmYm2cRAw/UoXE/hxED2KFyPAvLEQNejcD1KzcRAMzMzM5PZxEAK16NwvdzEQFK4HoUr7sRAXI/C9UgDxUCF61G43gLFQOxRuB4F9cRAcT0K10P7xECuR+F6NPjEQFK4HoVL+8RA9ihcj0LLxEAfhetReOXEQOF6FK7nM8VACtejcN0mxUBI4XoUzk7FQBSuR+F6K8VAPQrXo1AFxUBI4XoULhLFQM3MzMysDsVAzczMzAwYxUAUrkfh2g/FQHsUrkcBEMVAXI/C9Yg2xUAAAAAAIDPFQMP1KFzPDcVA16NwPeoPxUBcj8L1KO3EQLgehevR+MRAw/UoXK/3xECPwvUonA3FQAAAAABgEsVAzczMzEwMxUAUrkfhWi/FQK5H4XqUVsVAKVyPwpVMxUDNzMzMjDzFQOF6FK5nM8VAUrgehUtOxUDhehSuJ1rFQArXo3CdVsVAZmZmZqZGxUCuR+F61H/FQI/C9SicncVAexSuR8GOxUCkcD0KV5fFQA==\",\"dtype\":\"float64\",\"order\":\"little\",\"shape\":[176]}},\"selected\":{\"id\":\"1498\"},\"selection_policy\":{\"id\":\"1499\"}},\"id\":\"1476\",\"type\":\"ColumnDataSource\"},{\"attributes\":{\"bottom_units\":\"screen\",\"fill_alpha\":0.5,\"fill_color\":\"lightgrey\",\"left_units\":\"screen\",\"level\":\"overlay\",\"line_alpha\":1.0,\"line_color\":\"black\",\"line_dash\":[4,4],\"line_width\":2,\"right_units\":\"screen\",\"top_units\":\"screen\"},\"id\":\"1468\",\"type\":\"BoxAnnotation\"},{\"attributes\":{\"axis_label\":\"Date\",\"formatter\":{\"id\":\"1482\"},\"ticker\":{\"id\":\"1455\"}},\"id\":\"1454\",\"type\":\"DatetimeAxis\"},{\"attributes\":{\"days\":[1,4,7,10,13,16,19,22,25,28]},\"id\":\"1490\",\"type\":\"DaysTicker\"},{\"attributes\":{\"months\":[0,1,2,3,4,5,6,7,8,9,10,11]},\"id\":\"1493\",\"type\":\"MonthsTicker\"},{\"attributes\":{\"num_minor_ticks\":5,\"tickers\":[{\"id\":\"1486\"},{\"id\":\"1487\"},{\"id\":\"1488\"},{\"id\":\"1489\"},{\"id\":\"1490\"},{\"id\":\"1491\"},{\"id\":\"1492\"},{\"id\":\"1493\"},{\"id\":\"1494\"},{\"id\":\"1495\"},{\"id\":\"1496\"},{\"id\":\"1497\"}]},\"id\":\"1455\",\"type\":\"DatetimeTicker\"},{\"attributes\":{\"axis\":{\"id\":\"1458\"},\"dimension\":1,\"grid_line_alpha\":0.3,\"ticker\":null},\"id\":\"1461\",\"type\":\"Grid\"},{\"attributes\":{},\"id\":\"1448\",\"type\":\"DataRange1d\"},{\"attributes\":{\"line_alpha\":0.1,\"line_color\":\"#f2a900\",\"x\":{\"field\":\"x\"},\"y\":{\"field\":\"y\"}},\"id\":\"1478\",\"type\":\"Line\"},{\"attributes\":{\"source\":{\"id\":\"1476\"}},\"id\":\"1480\",\"type\":\"CDSView\"},{\"attributes\":{\"active_drag\":\"auto\",\"active_inspect\":\"auto\",\"active_multi\":null,\"active_scroll\":\"auto\",\"active_tap\":\"auto\",\"tools\":[{\"id\":\"1462\"},{\"id\":\"1463\"},{\"id\":\"1464\"},{\"id\":\"1465\"},{\"id\":\"1466\"},{\"id\":\"1467\"}]},\"id\":\"1469\",\"type\":\"Toolbar\"},{\"attributes\":{\"data_source\":{\"id\":\"1476\"},\"glyph\":{\"id\":\"1477\"},\"hover_glyph\":null,\"muted_glyph\":null,\"nonselection_glyph\":{\"id\":\"1478\"},\"selection_glyph\":null,\"view\":{\"id\":\"1480\"}},\"id\":\"1479\",\"type\":\"GlyphRenderer\"},{\"attributes\":{\"base\":60,\"mantissas\":[1,2,5,10,15,20,30],\"max_interval\":1800000.0,\"min_interval\":1000.0,\"num_minor_ticks\":0},\"id\":\"1487\",\"type\":\"AdaptiveTicker\"},{\"attributes\":{\"days\":[1,2,3,4,5,6,7,8,9,10,11,12,13,14,15,16,17,18,19,20,21,22,23,24,25,26,27,28,29,30,31]},\"id\":\"1489\",\"type\":\"DaysTicker\"},{\"attributes\":{},\"id\":\"1497\",\"type\":\"YearsTicker\"},{\"attributes\":{\"axis\":{\"id\":\"1454\"},\"grid_line_alpha\":0.3,\"ticker\":null},\"id\":\"1457\",\"type\":\"Grid\"},{\"attributes\":{\"items\":[{\"id\":\"1502\"}],\"location\":\"top_left\"},\"id\":\"1501\",\"type\":\"Legend\"},{\"attributes\":{\"mantissas\":[1,2,5],\"max_interval\":500.0,\"num_minor_ticks\":0},\"id\":\"1486\",\"type\":\"AdaptiveTicker\"},{\"attributes\":{\"overlay\":{\"id\":\"1468\"}},\"id\":\"1464\",\"type\":\"BoxZoomTool\"},{\"attributes\":{\"text\":\"Crypto Prices\"},\"id\":\"1444\",\"type\":\"Title\"},{\"attributes\":{},\"id\":\"1459\",\"type\":\"BasicTicker\"},{\"attributes\":{\"base\":24,\"mantissas\":[1,2,4,6,8,12],\"max_interval\":43200000.0,\"min_interval\":3600000.0,\"num_minor_ticks\":0},\"id\":\"1488\",\"type\":\"AdaptiveTicker\"},{\"attributes\":{\"axis_label\":\"Price\",\"formatter\":{\"id\":\"1484\"},\"ticker\":{\"id\":\"1459\"}},\"id\":\"1458\",\"type\":\"LinearAxis\"},{\"attributes\":{},\"id\":\"1463\",\"type\":\"WheelZoomTool\"},{\"attributes\":{},\"id\":\"1467\",\"type\":\"HelpTool\"}],\"root_ids\":[\"1443\"]},\"title\":\"Bokeh Application\",\"version\":\"2.2.1\"}};\n",
       "  var render_items = [{\"docid\":\"2347f82f-d7ea-4ce2-998a-0082ac9ae579\",\"root_ids\":[\"1443\"],\"roots\":{\"1443\":\"e00bdc3d-4238-4f3e-9973-41eb584cdc18\"}}];\n",
       "  root.Bokeh.embed.embed_items_notebook(docs_json, render_items);\n",
       "\n",
       "  }\n",
       "  if (root.Bokeh !== undefined) {\n",
       "    embed_document(root);\n",
       "  } else {\n",
       "    var attempts = 0;\n",
       "    var timer = setInterval(function(root) {\n",
       "      if (root.Bokeh !== undefined) {\n",
       "        clearInterval(timer);\n",
       "        embed_document(root);\n",
       "      } else {\n",
       "        attempts++;\n",
       "        if (attempts > 100) {\n",
       "          clearInterval(timer);\n",
       "          console.log(\"Bokeh: ERROR: Unable to run BokehJS code because BokehJS library is missing\");\n",
       "        }\n",
       "      }\n",
       "    }, 10, root)\n",
       "  }\n",
       "})(window);"
      ],
      "application/vnd.bokehjs_exec.v0+json": ""
     },
     "metadata": {
      "application/vnd.bokehjs_exec.v0+json": {
       "id": "1443"
      }
     },
     "output_type": "display_data"
    }
   ],
   "source": [
    "p1 = figure(x_axis_type=\"datetime\", title=\"Crypto Prices\", width=800)\n",
    "p1.grid.grid_line_alpha=0.3\n",
    "p1.xaxis.axis_label = 'Date'\n",
    "p1.yaxis.axis_label = 'Price'\n",
    "\n",
    "p1.line(btc.index, btc['ClosePrice'], color='#f2a900', legend='Bitcoin')\n",
    "#p1.line(eth.index, eth['ClosePrice'], color='#A6CEE3', legend='Ether')\n",
    "\n",
    "p1.legend.location = \"top_left\"\n",
    "\n",
    "show(p1)"
   ]
  },
  {
   "cell_type": "code",
   "execution_count": 61,
   "metadata": {},
   "outputs": [],
   "source": [
    "writer = pd.ExcelWriter('cryptos.xlsx')"
   ]
  },
  {
   "cell_type": "code",
   "execution_count": 62,
   "metadata": {},
   "outputs": [],
   "source": [
    "btc.to_excel(writer, sheet_name='Bitcoin')\n",
    "\n",
    "# seprating the files into 2 different sheet"
   ]
  },
  {
   "cell_type": "code",
   "execution_count": 63,
   "metadata": {},
   "outputs": [],
   "source": [
    "eth.to_excel(writer, sheet_name='Ether')"
   ]
  },
  {
   "cell_type": "code",
   "execution_count": 64,
   "metadata": {},
   "outputs": [],
   "source": [
    "writer.save()\n"
   ]
  },
  {
   "cell_type": "code",
   "execution_count": null,
   "metadata": {},
   "outputs": [],
   "source": []
  }
 ],
 "metadata": {
  "kernelspec": {
   "display_name": "Python 3",
   "language": "python",
   "name": "python3"
  },
  "language_info": {
   "codemirror_mode": {
    "name": "ipython",
    "version": 3
   },
   "file_extension": ".py",
   "mimetype": "text/x-python",
   "name": "python",
   "nbconvert_exporter": "python",
   "pygments_lexer": "ipython3",
   "version": "3.8.5"
  },
  "widgets": {
   "application/vnd.jupyter.widget-state+json": {
    "state": {},
    "version_major": 2,
    "version_minor": 0
   }
  }
 },
 "nbformat": 4,
 "nbformat_minor": 4
}
